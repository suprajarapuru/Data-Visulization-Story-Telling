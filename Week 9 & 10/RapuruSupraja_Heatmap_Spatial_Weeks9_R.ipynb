{
 "cells": [
  {
   "cell_type": "code",
   "execution_count": null,
   "id": "b99df517",
   "metadata": {},
   "outputs": [],
   "source": [
    "---\n",
    "date: \"5/21/2022\"\n",
    "output: pdf_document\n",
    "---\n",
    "\n",
    "```{r setup, include=FALSE}\n",
    "# Load dataframes\n",
    "costco <- read.csv(\"C:/Users/Supraja/Desktop/Supraja WORK Apps/8. DSC640/Data/costcos-geocoded.csv\")\n",
    "ppg <- read.csv(C:/Users/Supraja/Desktop/Supraja WORK Apps/8. DSC640/Data/ppg2008.csv\")\n",
    "```\n",
    "\n",
    "```{r}\n",
    "# Load Libraries\n",
    "library(ggplot2)\n",
    "library(dplyr)\n",
    "library(tidyverse)\n",
    "library(sf)\n",
    "library(mapview)\n",
    "```\n",
    "\n",
    "\n",
    "```{r}\n",
    "data <- as.matrix(ppg[, -1])\n",
    "names(ppg) <- make.names(names(ppg), unique=TRUE)\n",
    "rownames(data) <- ppg$Name\n",
    "heatmap(data, Colv = NA, Rowv = NA, scale=\"column\", main= '2008 NBA Performance')\n",
    "```\n",
    "\n",
    "```{r}\n",
    "mapview(costco, xcol='Longitude', ycol = 'Latitude', crs=4269, grid = FALSE)\n",
    "```\n",
    "\n",
    "```{r}\n",
    "ggplot(data = ppg, aes(x=MIN, y=PTS)) +\n",
    "    ylim(0, 5000) + \n",
    "    theme_bw() + \n",
    "    geom_point(alpha = 0.1, col=\"red\") + \n",
    "    geom_density2d(color= \"black\") + \n",
    "    ggtitle(\"2008 NBA - MIN vs PTS\") + \n",
    "    theme(plot.title = element_text(hjust = 0.5)) +\n",
    "    labs(x=\"MIN\", y=\"PTS\") + ylim(0, 35)\n",
    "```"
   ]
  }
 ],
 "metadata": {
  "kernelspec": {
   "display_name": "R",
   "language": "R",
   "name": "ir"
  }
 },
 "nbformat": 4,
 "nbformat_minor": 5
}
